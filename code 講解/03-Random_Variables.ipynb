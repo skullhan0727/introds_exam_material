{
 "cells": [
  {
   "cell_type": "markdown",
   "metadata": {
    "deletable": false
   },
   "source": [
    "# [Introduction to Data Science](http://datascience-intro.github.io/1MS041-2023/)    \n",
    "## 1MS041, 2023 \n",
    "&copy;2023 Raazesh Sainudiin, Benny Avelin. [Attribution 4.0 International     (CC BY 4.0)](https://creativecommons.org/licenses/by/4.0/)"
   ]
  },
  {
   "cell_type": "markdown",
   "metadata": {},
   "source": [
    "## Second notebook on Random variables\n",
    "\n",
    "Lets take a look again at the spam dataset and look at our concepts there"
   ]
  },
  {
   "cell_type": "code",
   "execution_count": 136,
   "metadata": {},
   "outputs": [
    {
     "data": {
      "text/plain": [
       "[('Go until jurong point, crazy.. Available only in bugis n great world la e buffet... Cine there got amore wat...',\n",
       "  0),\n",
       " ('Ok lar... Joking wif u oni...', 0)]"
      ]
     },
     "execution_count": 136,
     "metadata": {},
     "output_type": "execute_result"
    }
   ],
   "source": [
    "from Utils import load_sms\n",
    "sms_data = load_sms()\n",
    "sms_data[:2]"
   ]
  },
  {
   "cell_type": "markdown",
   "metadata": {},
   "source": [
    "Let X represents each SMS text (an entry in the list), and let $Y$ represent whether text is spam or not i.e. $Y \\in \\{0,1\\}$. Thus $\\mathbb{P}(Y = 1)$ is the probability that we get a spam. The goal is to estimate:\n",
    "$$\n",
    "    \\mathbb{P}(Y = 1 | \\text{\"free\" or \"prize\" is in } X) \\enspace .\n",
    "$$\n",
    "That is, the probability that the SMS is spam given that \"free\" or \"prize\" occurs in the SMS. \n",
    "Hint: it is good to remove the upper/lower case of words so that we can also find \"Free\" and \"Prize\"; this can be done with `text.lower()` if `text` a string.\n",
    "\n",
    "To do this we can create a new random variable $Z$ which is $1$ if \"free\" or \"prize\" appears in $X$."
   ]
  },
  {
   "cell_type": "code",
   "execution_count": 137,
   "metadata": {},
   "outputs": [],
   "source": [
    "interesting_words=set(['free','prize'])\n",
    "TF10 = {True: 1, False: 0}\n",
    "#isdisjoint 代表 沒有交集\n",
    "#not  X.isdisjoint(Y) 代表 有交集\n",
    "Z_obs = [TF10[not interesting_words.isdisjoint([word.lower() for word in line[0].split(' ')])] for line in sms_data]"
   ]
  },
  {
   "cell_type": "code",
   "execution_count": 138,
   "metadata": {},
   "outputs": [
    {
     "data": {
      "text/plain": [
       "[0, 0, 1, 0, 0, 0, 0, 0, 1, 1]"
      ]
     },
     "execution_count": 138,
     "metadata": {},
     "output_type": "execute_result"
    }
   ],
   "source": [
    "#Z: \"free\" or \"prize\" appears in text.\n",
    "Z_obs[:10]"
   ]
  },
  {
   "cell_type": "code",
   "execution_count": 139,
   "metadata": {},
   "outputs": [
    {
     "data": {
      "text/plain": [
       "[0, 0, 1, 0, 0, 1, 0, 0, 1, 1]"
      ]
     },
     "execution_count": 139,
     "metadata": {},
     "output_type": "execute_result"
    }
   ],
   "source": [
    "#Y: spam\n",
    "Y_obs = [y for x,y in sms_data]\n",
    "Y_obs[:10]"
   ]
  },
  {
   "cell_type": "code",
   "execution_count": 140,
   "metadata": {},
   "outputs": [],
   "source": [
    "import numpy as np\n",
    "def F_X_12(x):\n",
    "    TF10 = {True: 1, False: 0}\n",
    "    return np.mean([TF10[(y <= x[0]) and (z <= x[1])] for y,z in zip (Y_obs,Z_obs)])"
   ]
  },
  {
   "cell_type": "code",
   "execution_count": 141,
   "metadata": {},
   "outputs": [
    {
     "data": {
      "text/plain": [
       "0.9551328068916008"
      ]
     },
     "execution_count": 141,
     "metadata": {},
     "output_type": "execute_result"
    }
   ],
   "source": [
    "# P(y <= 1, z <= 0)\n",
    "F_X_12([1,0])"
   ]
  },
  {
   "cell_type": "markdown",
   "metadata": {},
   "source": [
    "This is the JDF for this problem"
   ]
  },
  {
   "cell_type": "code",
   "execution_count": 142,
   "metadata": {},
   "outputs": [
    {
     "name": "stdout",
     "output_type": "stream",
     "text": [
      "\tz <= 0 \t\tz <= 1\n",
      "y <= 0 \t0.86\t\t0.87\t\t\n",
      "\n",
      "y <= 1 \t0.96\t\t1.00\t\t\n",
      "\n"
     ]
    }
   ],
   "source": [
    "print(\"\\tz <= 0 \\t\\tz <= 1\")\n",
    "for x1 in range(0,2):\n",
    "    print(\"y <= %d \\t\" % x1,end='')\n",
    "    for x2 in range(0,2):\n",
    "        print(\"%.2f\" % (F_X_12((x1,x2))),end='\\t\\t')\n",
    "    print('\\n')"
   ]
  },
  {
   "cell_type": "code",
   "execution_count": 143,
   "metadata": {},
   "outputs": [
    {
     "data": {
      "text/plain": [
       "0.9551328068916008"
      ]
     },
     "execution_count": 143,
     "metadata": {},
     "output_type": "execute_result"
    }
   ],
   "source": [
    "F_X_12((1,0))"
   ]
  },
  {
   "cell_type": "code",
   "execution_count": 144,
   "metadata": {},
   "outputs": [
    {
     "data": {
      "text/plain": [
       "False"
      ]
     },
     "execution_count": 144,
     "metadata": {},
     "output_type": "execute_result"
    }
   ],
   "source": [
    "# check whether Y and Z are independent or not\n",
    "# 左式：P(y=0,z= 0)\n",
    "# 右式：P(y=0,z<= 1), P(y<= 1,z<= 0)\n",
    "# 右式：P(y=0), P(z= 0)\n",
    "# False => dependent\n",
    "\n",
    "F_X_12((0,0)) == F_X_12((0,1))*F_X_12((1,0))"
   ]
  },
  {
   "cell_type": "code",
   "execution_count": 145,
   "id": "0d126c01",
   "metadata": {},
   "outputs": [
    {
     "data": {
      "text/plain": [
       "0.8575017946877244"
      ]
     },
     "execution_count": 145,
     "metadata": {},
     "output_type": "execute_result"
    }
   ],
   "source": [
    "# P(y=0,z= 0)\n",
    "F_X_12((0,0))"
   ]
  },
  {
   "cell_type": "code",
   "execution_count": 146,
   "metadata": {},
   "outputs": [
    {
     "data": {
      "text/plain": [
       "0.8270846721557743"
      ]
     },
     "execution_count": 146,
     "metadata": {},
     "output_type": "execute_result"
    }
   ],
   "source": [
    "# P(y=0) * P(z= 0)\n",
    "F_X_12((0,1))*F_X_12((1,0))"
   ]
  },
  {
   "cell_type": "code",
   "execution_count": 147,
   "metadata": {},
   "outputs": [
    {
     "data": {
      "text/plain": [
       "0.827084672155774"
      ]
     },
     "execution_count": 147,
     "metadata": {},
     "output_type": "execute_result"
    }
   ],
   "source": [
    "# Are they indepdentent? If so, then the JDF is just the product of the \n",
    "# DFs for Y and Z, but\n",
    "0.865936826992103*0.955132806891601"
   ]
  },
  {
   "cell_type": "markdown",
   "metadata": {},
   "source": [
    "Which is not 0.858, so they are not independent. So lets try to estimate the probability that $Y=1$ given that $Z = 1$. Lets again do that by filtering"
   ]
  },
  {
   "cell_type": "code",
   "execution_count": 148,
   "metadata": {},
   "outputs": [
    {
     "data": {
      "text/plain": [
       "0.812"
      ]
     },
     "execution_count": 148,
     "metadata": {},
     "output_type": "execute_result"
    }
   ],
   "source": [
    "#P(spam | \"free\" or \"prize\"  in text)\n",
    "np.mean([y for z,y in zip(Z_obs,Y_obs) if z == 1])"
   ]
  },
  {
   "cell_type": "markdown",
   "metadata": {},
   "source": [
    "Compare that with the marginal probability of $Y = 1$, which is according to our JDF 1-0.866 = 0.134"
   ]
  },
  {
   "cell_type": "code",
   "execution_count": 149,
   "metadata": {},
   "outputs": [
    {
     "data": {
      "text/plain": [
       "0.13406317300789664"
      ]
     },
     "execution_count": 149,
     "metadata": {},
     "output_type": "execute_result"
    }
   ],
   "source": [
    "#P(spam)\n",
    "# Or we can just compute it directly\n",
    "np.mean(Y_obs)"
   ]
  },
  {
   "cell_type": "markdown",
   "metadata": {},
   "source": [
    "What we see from this is that knowing that the words \"free\" or \"prize\" appeared in the sms text, we are much more certain that it is a spam. We also see that looking directly at the JDF this can be hard to see, although it is equivalent."
   ]
  },
  {
   "cell_type": "code",
   "execution_count": 150,
   "metadata": {},
   "outputs": [],
   "source": [
    "x = np.random.normal(size=100)"
   ]
  },
  {
   "cell_type": "code",
   "execution_count": 151,
   "metadata": {},
   "outputs": [
    {
     "data": {
      "text/plain": [
       "-0.07870243791539774"
      ]
     },
     "execution_count": 151,
     "metadata": {},
     "output_type": "execute_result"
    }
   ],
   "source": [
    "np.mean(x)"
   ]
  },
  {
   "cell_type": "code",
   "execution_count": 152,
   "metadata": {},
   "outputs": [],
   "source": [
    "g = lambda x: x**2"
   ]
  },
  {
   "cell_type": "code",
   "execution_count": 153,
   "metadata": {},
   "outputs": [
    {
     "data": {
      "text/plain": [
       "2.0424534568011588"
      ]
     },
     "execution_count": 153,
     "metadata": {},
     "output_type": "execute_result"
    }
   ],
   "source": [
    "mean = np.mean(x)\n",
    "y = x-mean\n",
    "np.mean(y**4)"
   ]
  },
  {
   "cell_type": "markdown",
   "metadata": {},
   "source": [
    "## Moments etc"
   ]
  },
  {
   "cell_type": "code",
   "execution_count": 154,
   "metadata": {},
   "outputs": [],
   "source": [
    "import numpy as np\n",
    "x = np.random.normal(size=100)"
   ]
  },
  {
   "cell_type": "code",
   "execution_count": 155,
   "metadata": {
    "scrolled": true
   },
   "outputs": [
    {
     "data": {
      "text/plain": [
       "array([-2.13005464e+00, -1.02913122e+00,  6.68728268e-01,  6.23414478e-01,\n",
       "        2.87533273e-01, -2.04815766e-01,  6.41177744e-01,  2.55653349e+00,\n",
       "       -5.20262084e-02, -2.77780018e-01, -2.81272522e-04,  1.93418460e+00,\n",
       "       -4.85094794e-01,  8.68975899e-02, -9.82120727e-03, -2.75915965e-01,\n",
       "        1.88708200e-01,  1.62586805e-01,  1.29984262e-01, -7.79424322e-01,\n",
       "        1.53374182e+00,  4.20246719e-01, -2.12416248e+00, -8.98925979e-01,\n",
       "       -4.09094314e-02,  4.75324012e-01, -2.30085018e+00,  2.77089745e-01,\n",
       "       -1.59330659e-01, -1.06693570e+00,  6.89655403e-02,  7.74210797e-01,\n",
       "       -5.71828627e-01, -1.86602901e-03,  3.24020126e-01, -4.86394104e-01,\n",
       "       -1.94268223e-01,  6.44281748e-01,  1.21662920e+00,  4.43409349e-02,\n",
       "       -9.50061626e-01, -2.06601093e+00,  3.70595408e-01, -7.59224912e-01,\n",
       "       -1.94032822e+00,  1.96483198e+00,  1.11823207e+00, -1.75604735e-01,\n",
       "       -1.14829649e+00, -1.79851528e-01, -6.59924333e-01,  1.01793597e+00,\n",
       "        4.99485394e-01, -1.20750441e-01, -6.46622661e-01, -9.43275791e-01,\n",
       "       -1.49656334e-01, -5.52198289e-01,  8.28377506e-02, -3.12971308e-01,\n",
       "        1.75214298e+00,  2.47495957e+00,  5.47662664e-02, -6.54598718e-01,\n",
       "       -9.61492054e-01,  5.09358959e-01, -9.10408693e-01, -2.36588524e+00,\n",
       "       -1.91251956e+00,  7.17567636e-01,  1.43343805e+00,  2.14123007e-02,\n",
       "        7.65392387e-01, -4.69968724e-01,  1.78670949e+00,  1.48406393e+00,\n",
       "        1.20217939e+00,  6.69969151e-01,  2.44904612e-01,  6.96656870e-02,\n",
       "       -5.42626447e-01,  6.96158241e-01, -4.11142838e-01, -8.79801710e-01,\n",
       "        1.20777948e+00,  2.50405632e+00,  1.20274743e-01,  2.98025704e-02,\n",
       "       -7.59732538e-01,  6.61532852e-01, -3.66827115e-01,  1.06186110e+00,\n",
       "       -5.69834258e-01,  6.32301750e-01,  5.25121931e-02, -5.00191143e-01,\n",
       "        2.75942522e-01, -4.56580778e-01, -1.02789885e-01,  6.15776198e-01])"
      ]
     },
     "execution_count": 155,
     "metadata": {},
     "output_type": "execute_result"
    }
   ],
   "source": [
    "x"
   ]
  },
  {
   "cell_type": "markdown",
   "metadata": {},
   "source": [
    "## Sample mean"
   ]
  },
  {
   "cell_type": "code",
   "execution_count": 156,
   "metadata": {},
   "outputs": [
    {
     "data": {
      "text/plain": [
       "0.03598052184087285"
      ]
     },
     "execution_count": 156,
     "metadata": {},
     "output_type": "execute_result"
    }
   ],
   "source": [
    "np.mean(x)"
   ]
  },
  {
   "cell_type": "markdown",
   "metadata": {},
   "source": [
    "## Sample variance"
   ]
  },
  {
   "cell_type": "code",
   "execution_count": 157,
   "metadata": {},
   "outputs": [
    {
     "data": {
      "text/plain": [
       "1.0065840552540666"
      ]
     },
     "execution_count": 157,
     "metadata": {},
     "output_type": "execute_result"
    }
   ],
   "source": [
    "np.var(x)"
   ]
  },
  {
   "cell_type": "markdown",
   "metadata": {},
   "source": [
    "Or by doing it yourself"
   ]
  },
  {
   "cell_type": "code",
   "execution_count": 158,
   "metadata": {},
   "outputs": [
    {
     "data": {
      "text/plain": [
       "1.0065840552540666"
      ]
     },
     "execution_count": 158,
     "metadata": {},
     "output_type": "execute_result"
    }
   ],
   "source": [
    "mu = np.mean(x)\n",
    "np.mean(np.power(x-mu,2))"
   ]
  },
  {
   "cell_type": "markdown",
   "metadata": {},
   "source": [
    "Higher moments, we can use `scipy`"
   ]
  },
  {
   "cell_type": "code",
   "execution_count": 159,
   "metadata": {},
   "outputs": [],
   "source": [
    "from scipy.stats import skew, kurtosis"
   ]
  },
  {
   "cell_type": "code",
   "execution_count": 160,
   "metadata": {},
   "outputs": [
    {
     "data": {
      "text/plain": [
       "0.05681878605563232"
      ]
     },
     "execution_count": 160,
     "metadata": {},
     "output_type": "execute_result"
    }
   ],
   "source": [
    "skew(x)"
   ]
  },
  {
   "cell_type": "code",
   "execution_count": 161,
   "metadata": {},
   "outputs": [
    {
     "data": {
      "text/plain": [
       "3.4660903882681744"
      ]
     },
     "execution_count": 161,
     "metadata": {},
     "output_type": "execute_result"
    }
   ],
   "source": [
    "kurtosis(x,fisher=False)"
   ]
  },
  {
   "cell_type": "markdown",
   "metadata": {},
   "source": [
    "## Moments and tail behavior"
   ]
  },
  {
   "cell_type": "code",
   "execution_count": 162,
   "metadata": {},
   "outputs": [],
   "source": [
    "def standardize(data):\n",
    "    mean = np.mean(data)\n",
    "    std = np.sqrt(np.var(data))\n",
    "    return (data-mean)/std"
   ]
  },
  {
   "cell_type": "code",
   "execution_count": 163,
   "metadata": {},
   "outputs": [
    {
     "name": "stdout",
     "output_type": "stream",
     "text": [
      "4.0020027474800655\n"
     ]
    },
    {
     "data": {
      "text/plain": [
       "(-3.0, 5.0)"
      ]
     },
     "execution_count": 163,
     "metadata": {},
     "output_type": "execute_result"
    },
    {
     "data": {
      "image/png": "[encoded data removed]",
      "text/plain": [
       "<Figure size 640x480 with 1 Axes>"
      ]
     },
     "metadata": {},
     "output_type": "display_data"
    }
   ],
   "source": [
    "import numpy as np\n",
    "chi2 = np.random.chisquare(4,size=10000)\n",
    "print(np.mean(chi2)) #mean:4\n",
    "normal = np.random.normal(size=10000)\n",
    "import matplotlib.pyplot as plt\n",
    "_=plt.hist(standardize(chi2),bins=50,alpha=0.5) #blue\n",
    "_=plt.hist(standardize(normal),bins=50,alpha=0.5)#orange\n",
    "\n",
    "_=plt.hist(chi2,bins=50,alpha=0.5) #green 未standarize chi2(4)\n",
    "plt.xlim(-3,5)"
   ]
  },
  {
   "cell_type": "code",
   "execution_count": 164,
   "metadata": {},
   "outputs": [],
   "source": [
    "from scipy.stats import skew, kurtosis\n",
    "def print_basic_stats(data):\n",
    "    print(\"mean: %.2f\\tstd: %.2f\\tskew: %.2f\\tkurtosis: %.2f\" % (np.mean(data),np.std(data),skew(data),kurtosis(data,fisher=False)))"
   ]
  },
  {
   "cell_type": "code",
   "execution_count": 165,
   "metadata": {},
   "outputs": [
    {
     "name": "stdout",
     "output_type": "stream",
     "text": [
      "mean: -0.00\tstd: 1.00\tskew: -0.02\tkurtosis: 3.00\n"
     ]
    }
   ],
   "source": [
    "print_basic_stats(standardize(normal))"
   ]
  },
  {
   "cell_type": "code",
   "execution_count": 166,
   "metadata": {},
   "outputs": [
    {
     "name": "stdout",
     "output_type": "stream",
     "text": [
      "mean: -0.00\tstd: 1.00\tskew: 1.28\tkurtosis: 5.23\n"
     ]
    }
   ],
   "source": [
    "print_basic_stats(standardize(chi2))"
   ]
  },
  {
   "cell_type": "code",
   "execution_count": 167,
   "metadata": {},
   "outputs": [
    {
     "name": "stdout",
     "output_type": "stream",
     "text": [
      "mean: 0.00\tstd: 1.00\tskew: 0.34\tkurtosis: 2.91\n"
     ]
    }
   ],
   "source": [
    "print_basic_stats(standardize(np.sqrt(chi2)))"
   ]
  },
  {
   "cell_type": "code",
   "execution_count": 168,
   "metadata": {},
   "outputs": [
    {
     "data": {
      "text/plain": [
       "1.2791725663016964"
      ]
     },
     "execution_count": 168,
     "metadata": {},
     "output_type": "execute_result"
    }
   ],
   "source": [
    "np.mean(np.power(standardize(chi2),3)) # Skewness"
   ]
  },
  {
   "cell_type": "code",
   "execution_count": 169,
   "metadata": {},
   "outputs": [
    {
     "data": {
      "text/plain": [
       "5.2260917219087375"
      ]
     },
     "execution_count": 169,
     "metadata": {},
     "output_type": "execute_result"
    }
   ],
   "source": [
    "np.mean(np.power(standardize(chi2),4)) # kurtosis"
   ]
  },
  {
   "cell_type": "markdown",
   "metadata": {},
   "source": [
    "## Transformations of random variables"
   ]
  },
  {
   "cell_type": "markdown",
   "metadata": {},
   "source": [
    "Consider a Binomial random variable"
   ]
  },
  {
   "cell_type": "code",
   "execution_count": 170,
   "metadata": {},
   "outputs": [],
   "source": [
    "n = 10\n",
    "p = 0.5\n",
    "x = np.random.binomial(n,p,size=1000)"
   ]
  },
  {
   "cell_type": "markdown",
   "metadata": {},
   "source": [
    "Lets plot the empirical density"
   ]
  },
  {
   "cell_type": "code",
   "execution_count": 171,
   "metadata": {},
   "outputs": [
    {
     "data": {
      "image/png": "[encoded data removed]",
      "text/plain": [
       "<Figure size 640x480 with 1 Axes>"
      ]
     },
     "metadata": {},
     "output_type": "display_data"
    }
   ],
   "source": [
    "from Utils import makeEMF,makeEDF,plotEDF,plotEMF\n",
    "plotEMF(makeEMF(x))"
   ]
  },
  {
   "cell_type": "markdown",
   "metadata": {},
   "source": [
    "If we had the function $g(x) = \\sin(x/3)$"
   ]
  },
  {
   "cell_type": "code",
   "execution_count": 172,
   "metadata": {},
   "outputs": [
    {
     "data": {
      "image/png": "[encoded data removed]",
      "text/plain": [
       "<Figure size 640x480 with 1 Axes>"
      ]
     },
     "metadata": {},
     "output_type": "display_data"
    }
   ],
   "source": [
    "#simulation\n",
    "plotEMF(makeEMF(np.sin(x)))"
   ]
  },
  {
   "cell_type": "code",
   "execution_count": 173,
   "metadata": {},
   "outputs": [
    {
     "data": {
      "image/png": "[encoded data removed]",
      "text/plain": [
       "<Figure size 640x480 with 1 Axes>"
      ]
     },
     "metadata": {},
     "output_type": "display_data"
    }
   ],
   "source": [
    "plotEDF(makeEDF(np.sin(x)))"
   ]
  },
  {
   "cell_type": "markdown",
   "metadata": {},
   "source": [
    "Can we compute this thing?\n",
    "What is $\\sin^{[-1]}$?\n",
    "\n",
    "Since $X$ is discrete, we can check what $\\mathbb{Y}$ is, since $\\mathbb{X}=\\{0,1,\\ldots,10\\}$."
   ]
  },
  {
   "cell_type": "code",
   "execution_count": 174,
   "metadata": {},
   "outputs": [
    {
     "name": "stdout",
     "output_type": "stream",
     "text": [
      "[-0.95892427 -0.7568025  -0.54402111 -0.2794155   0.          0.14112001\n",
      "  0.41211849  0.6569866   0.84147098  0.90929743  0.98935825]\n",
      "{0.0: 0, 0.8414709848078965: 1, 0.9092974268256817: 2, 0.1411200080598672: 3, -0.7568024953079283: 4, -0.9589242746631385: 5, -0.27941549819892586: 6, 0.6569865987187891: 7, 0.9893582466233818: 8, 0.4121184852417566: 9, -0.5440211108893698: 10}\n"
     ]
    }
   ],
   "source": [
    "Y_space = np.sort(np.sin(np.arange(0,11)))\n",
    "print(Y_space)\n",
    "sin_inv = dict(zip(np.sin(np.arange(0,11)),np.arange(0,11)))\n",
    "print(sin_inv)"
   ]
  },
  {
   "cell_type": "code",
   "execution_count": 175,
   "metadata": {},
   "outputs": [
    {
     "data": {
      "image/png": "[encoded data removed]",
      "text/plain": [
       "<Figure size 640x480 with 1 Axes>"
      ]
     },
     "metadata": {},
     "output_type": "display_data"
    }
   ],
   "source": [
    "# real distribution using the pdf\n",
    "from scipy.special import binom as binomial\n",
    "plotEMF([(y,binomial(n,sin_inv[y])*(p**sin_inv[y])*((1-p)**(n-sin_inv[y]))) for y in Y_space])"
   ]
  },
  {
   "cell_type": "code",
   "execution_count": 178,
   "metadata": {},
   "outputs": [
    {
     "data": {
      "image/png": "[encoded data removed]",
      "text/plain": [
       "<Figure size 640x480 with 1 Axes>"
      ]
     },
     "metadata": {},
     "output_type": "display_data"
    }
   ],
   "source": [
    "from Utils import emfToEdf\n",
    "plotEDF(emfToEdf([(y,binomial(n,sin_inv[y])*(p**sin_inv[y])*((1-p)**(n-sin_inv[y]))) for y in Y_space]))"
   ]
  }
 ],
 "metadata": {
  "kernelspec": {
   "display_name": "Python 3 (ipykernel)",
   "language": "python",
   "name": "python3"
  },
  "language_info": {
   "codemirror_mode": {
    "name": "ipython",
    "version": 3
   },
   "file_extension": ".py",
   "mimetype": "text/x-python",
   "name": "python",
   "nbconvert_exporter": "python",
   "pygments_lexer": "ipython3",
   "version": "3.11.5"
  },
  "lx_course_instance": "2023",
  "lx_course_name": "Introduction to Data Science",
  "lx_course_number": "1MS041"
 },
 "nbformat": 4,
 "nbformat_minor": 5
}
