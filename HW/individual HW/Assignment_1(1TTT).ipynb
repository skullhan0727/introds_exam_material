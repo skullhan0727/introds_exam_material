{
 "cells": [
  {
   "cell_type": "markdown",
   "metadata": {
    "deletable": false
   },
   "source": [
    "# Assignment 1 for Course 1MS041\n",
    "Make         sure you pass the `# ... Test` cells and\n",
    " submit your solution notebook in the corresponding assignment on the course website. You can submit multiple times before the deadline         and your highest score will be used."
   ]
  },
  {
   "cell_type": "markdown",
   "metadata": {
    "deletable": false,
    "lx_assignment_number": "1",
    "lx_assignment_type": "ASSIGNMENT",
    "lx_assignment_type2print": "Assignment",
    "lx_problem_cell_type": "PROBLEM",
    "lx_problem_number": "1",
    "lx_problem_points": "3"
   },
   "source": [
    "---\n",
    "## Assignment 1, PROBLEM 1\n",
    "Maximum Points = 3"
   ]
  },
  {
   "cell_type": "markdown",
   "metadata": {
    "deletable": false,
    "lx_assignment_number": "1",
    "lx_assignment_type": "ASSIGNMENT",
    "lx_assignment_type2print": "Assignment",
    "lx_problem_cell_type": "PROBLEM",
    "lx_problem_number": "1",
    "lx_problem_points": "3"
   },
   "source": [
    "\n",
    "\n",
    "Given that you are being introduced to data science it is important to bear in mind the true costs of AI, a highly predictive family of algorithms used in data engineering sciences:\n",
    "\n",
    "Read the 16 pages of [ai-anatomy-publication.pdf](http://www.anatomyof.ai/img/ai-anatomy-publication.pdf) with the highly detailed [ai-anatomy-map.pdf](https://anatomyof.ai/img/ai-anatomy-map.pdf) of [https://anatomyof.ai/](https://anatomyof.ai/), \"Anatomy of an AI System\" By Kate Crawford and Vladan Joler (2018).  The first problem in ASSIGNMENT 1 is a trivial test of your reading comprehension.\n",
    "\n",
    "\n",
    "Answer whether each of the following statements is `True` or `False` *according to the authors* by appropriately replacing `Xxxxx` coresponding to `TruthValueOfStatement0a`, `TruthValueOfStatement0b` and `TruthValueOfStatement0c`, respectively, in the next cell to demonstrate your reading comprehension.\n",
    "\n",
    "1. `Statement0a =` *Each small moment of convenience (provided by Amazon's Echo) – be it answering a question, turning on a light, or playing a song – requires a vast planetary network, fueled by the extraction of non-renewable materials, labor, and data.*\n",
    "2. `Statement0b =` *The Echo user is simultaneously a consumer, a resource, a worker, and a product* \n",
    "3. `Statement0c =` *Many of the assumptions about human life made by machine learning systems are narrow, normative and laden with error. Yet they are inscribing and building those assumptions into a new world, and will increasingly play a role in how opportunities, wealth, and knowledge are distributed.*"
   ]
  },
  {
   "cell_type": "code",
   "execution_count": 115,
   "metadata": {
    "deletable": false,
    "lx_assignment_number": "1",
    "lx_assignment_type": "ASSIGNMENT",
    "lx_assignment_type2print": "Assignment",
    "lx_problem_cell_type": "PROBLEM",
    "lx_problem_number": "1",
    "lx_problem_points": "3"
   },
   "outputs": [],
   "source": [
    "\n",
    "# Replace Xxxxx with True or False; Don't modify anything else in this cell!\n",
    "\n",
    "TruthValueOfStatement0a = True\n",
    "\n",
    "TruthValueOfStatement0b = True\n",
    "\n",
    "TruthValueOfStatement0c = True"
   ]
  },
  {
   "cell_type": "markdown",
   "metadata": {
    "deletable": false,
    "lx_assignment_number": "1",
    "lx_assignment_type": "ASSIGNMENT",
    "lx_assignment_type2print": "Assignment",
    "lx_problem_cell_type": "Test",
    "lx_problem_number": "1",
    "lx_problem_points": "3"
   },
   "source": [
    "---\n",
    "#### Local Test for Assignment 1, PROBLEM 1\n",
    "Evaluate cell below to make sure your answer is valid.                             You **should not** modify anything in the cell below when evaluating it to do a local test of                             your solution.\n",
    "You may need to include and evaluate code snippets from lecture notebooks in cells above to make the local test work correctly sometimes (see error messages for clues). This is meant to help you become efficient at recalling materials covered in lectures that relate to this problem. Such local tests will generally not be available in the exam."
   ]
  },
  {
   "cell_type": "code",
   "execution_count": 116,
   "metadata": {
    "deletable": false,
    "lx_assignment_number": "1",
    "lx_assignment_type": "ASSIGNMENT",
    "lx_assignment_type2print": "Assignment",
    "lx_problem_cell_type": "Test",
    "lx_problem_number": "1",
    "lx_problem_points": "3"
   },
   "outputs": [
    {
     "name": "stdout",
     "output_type": "stream",
     "text": [
      "Good, you have answered either True or False. Hopefully they are the correct answers!\n"
     ]
    }
   ],
   "source": [
    "# Test locally to ensure an acceptable answer, True or False\n",
    "try:\n",
    "    assert(isinstance(TruthValueOfStatement0a, bool)) \n",
    "    assert(isinstance(TruthValueOfStatement0b, bool)) \n",
    "    assert(isinstance(TruthValueOfStatement0c, bool))\n",
    "except:\n",
    "    print(\"Try again. You are not writing True or False for your answers.\")\n",
    "else:\n",
    "    print(\"Good, you have answered either True or False. Hopefully they are the correct answers!\")"
   ]
  },
  {
   "cell_type": "markdown",
   "metadata": {
    "deletable": false,
    "lx_assignment_number": "1",
    "lx_assignment_type": "ASSIGNMENT",
    "lx_assignment_type2print": "Assignment",
    "lx_problem_cell_type": "PROBLEM",
    "lx_problem_number": "2",
    "lx_problem_points": "2"
   },
   "source": [
    "---\n",
    "## Assignment 1, PROBLEM 2\n",
    "Maximum Points = 2"
   ]
  },
  {
   "cell_type": "markdown",
   "metadata": {
    "deletable": false,
    "lx_assignment_number": "1",
    "lx_assignment_type": "ASSIGNMENT",
    "lx_assignment_type2print": "Assignment",
    "lx_problem_cell_type": "PROBLEM",
    "lx_problem_number": "2",
    "lx_problem_points": "2"
   },
   "source": [
    "\n",
    "Evaluate the following cells by replacing `X` with the right command-line option to `head` in order to find the first four lines of the csv file `data/final.csv`\n",
    "\n",
    "```\n",
    "%%sh\n",
    "man head\n",
    "\n",
    "HEAD(1)                   BSD General Commands Manual                  HEAD(1)\n",
    "\n",
    "NAME\n",
    "     head -- display first lines of a file\n",
    "\n",
    "SYNOPSIS\n",
    "     head [-n count | -c bytes] [file ...]\n",
    "\n",
    "DESCRIPTION\n",
    "     This filter displays the first count lines or bytes of each of the speci-\n",
    "     fied files, or of the standard input if no files are specified.  If count\n",
    "     is omitted it defaults to 10.\n",
    "\n",
    "     If more than a single file is specified, each file is preceded by a\n",
    "     header consisting of the string ``==> XXX <=='' where ``XXX'' is the name\n",
    "     of the file.\n",
    "\n",
    "EXIT STATUS\n",
    "     The head utility exits 0 on success, and >0 if an error occurs.\n",
    "\n",
    "SEE ALSO\n",
    "     tail(1)\n",
    "\n",
    "HISTORY\n",
    "     The head command appeared in PWB UNIX.\n",
    "\n",
    "BSD                              June 6, 1993                              BSD\n",
    "```"
   ]
  },
  {
   "cell_type": "code",
   "execution_count": 117,
   "metadata": {
    "deletable": false,
    "lx_assignment_number": "1",
    "lx_assignment_type": "ASSIGNMENT",
    "lx_assignment_type2print": "Assignment",
    "lx_problem_cell_type": "PROBLEM",
    "lx_problem_number": "2",
    "lx_problem_points": "2"
   },
   "outputs": [
    {
     "name": "stdout",
     "output_type": "stream",
     "text": [
      "region,municipality,district,party,votes\n",
      "Blekinge län,Karlshamn,0 - Centrala Asarum,S,519\n",
      "Blekinge län,Karlshamn,0 - Centrala Asarum,SD,311\n",
      "Blekinge län,Karlshamn,0 - Centrala Asarum,M,162\n"
     ]
    }
   ],
   "source": [
    "%%sh\n",
    "head -n 4 data/final.csv"
   ]
  },
  {
   "cell_type": "code",
   "execution_count": 118,
   "metadata": {
    "deletable": false,
    "lx_assignment_number": "1",
    "lx_assignment_type": "ASSIGNMENT",
    "lx_assignment_type2print": "Assignment",
    "lx_problem_cell_type": "PROBLEM",
    "lx_problem_number": "2",
    "lx_problem_points": "2"
   },
   "outputs": [],
   "source": [
    "line_1_final = \"region,municipality,district,party,votes\"\n",
    "line_2_final = \"Blekinge län,Karlshamn,0 - Centrala Asarum,S,519\""
   ]
  },
  {
   "cell_type": "markdown",
   "metadata": {
    "deletable": false,
    "lx_assignment_number": "1",
    "lx_assignment_type": "ASSIGNMENT",
    "lx_assignment_type2print": "Assignment",
    "lx_problem_cell_type": "Test",
    "lx_problem_number": "2",
    "lx_problem_points": "2"
   },
   "source": [
    "---\n",
    "#### Local Test for Assignment 1, PROBLEM 2\n",
    "Evaluate cell below to make sure your answer is valid.                             You **should not** modify anything in the cell below when evaluating it to do a local test of                             your solution.\n",
    "You may need to include and evaluate code snippets from lecture notebooks in cells above to make the local test work correctly sometimes (see error messages for clues). This is meant to help you become efficient at recalling materials covered in lectures that relate to this problem. Such local tests will generally not be available in the exam."
   ]
  },
  {
   "cell_type": "code",
   "execution_count": 315,
   "metadata": {
    "deletable": false,
    "lx_assignment_number": "1",
    "lx_assignment_type": "ASSIGNMENT",
    "lx_assignment_type2print": "Assignment",
    "lx_problem_cell_type": "Test",
    "lx_problem_number": "2",
    "lx_problem_points": "2"
   },
   "outputs": [
    {
     "name": "stdout",
     "output_type": "stream",
     "text": [
      "Good! You have answered as a string for line 1. Hopefully it is the correct!\n",
      "Good! You have answered as a string for line 2. Hopefully it is the correct!\n"
     ]
    }
   ],
   "source": [
    "# Evaluate this cell locally to make sure you have the answer as a string\n",
    "try:\n",
    "    assert(type(line_1_final) == str)\n",
    "    print(\"Good! You have answered as a string for line 1. Hopefully it is the correct!\")\n",
    "except AssertionError:\n",
    "    print(\"Try Again. You should answer with a string.\")\n",
    "try:\n",
    "    assert(type(line_2_final) == str)\n",
    "    print(\"Good! You have answered as a string for line 2. Hopefully it is the correct!\")\n",
    "except AssertionError:\n",
    "    print(\"Try Again. You should answer with a string.\")"
   ]
  },
  {
   "cell_type": "markdown",
   "metadata": {
    "deletable": false,
    "lx_assignment_number": "1",
    "lx_assignment_type": "ASSIGNMENT",
    "lx_assignment_type2print": "Assignment",
    "lx_problem_cell_type": "PROBLEM",
    "lx_problem_number": "3",
    "lx_problem_points": "3"
   },
   "source": [
    "---\n",
    "## Assignment 1, PROBLEM 3\n",
    "Maximum Points = 3"
   ]
  },
  {
   "cell_type": "markdown",
   "metadata": {
    "deletable": false,
    "lx_assignment_number": "1",
    "lx_assignment_type": "ASSIGNMENT",
    "lx_assignment_type2print": "Assignment",
    "lx_problem_cell_type": "PROBLEM",
    "lx_problem_number": "3",
    "lx_problem_points": "3"
   },
   "source": [
    "\n",
    "In this assignment the goal is to parse the `final.csv` file from the previous problem.\n",
    "\n",
    "1. Read the file `data/final.csv` and parse it using the `csv` package and store the result as follows\n",
    "\n",
    "the `header` variable contains a list of names all as strings\n",
    "\n",
    "the `data` variable should be a list of lists containing all the rows of the csv file"
   ]
  },
  {
   "cell_type": "code",
   "execution_count": 170,
   "metadata": {
    "deletable": false,
    "lx_assignment_number": "1",
    "lx_assignment_type": "ASSIGNMENT",
    "lx_assignment_type2print": "Assignment",
    "lx_problem_cell_type": "PROBLEM",
    "lx_problem_number": "3",
    "lx_problem_points": "3"
   },
   "outputs": [
    {
     "name": "stdout",
     "output_type": "stream",
     "text": [
      "header:  ['region', 'municipality', 'district', 'party', 'votes']\n",
      "['Blekinge län', 'Karlshamn', '0 - Centrala Asarum', 'S', '519']\n",
      "['Blekinge län', 'Karlshamn', '0 - Centrala Asarum', 'SD', '311']\n",
      "['Blekinge län', 'Karlshamn', '0 - Centrala Asarum', 'M', '162']\n",
      "['Blekinge län', 'Karlshamn', '0 - Centrala Asarum', 'V', '82']\n",
      "['Blekinge län', 'Karlshamn', '0 - Centrala Asarum', 'KD', '53']\n",
      "['Blekinge län', 'Karlshamn', '0 - Centrala Asarum', 'C', '37']\n",
      "['Blekinge län', 'Karlshamn', '0 - Centrala Asarum', 'L', '37']\n",
      "['Blekinge län', 'Karlshamn', '0 - Centrala Asarum', 'MP', '32']\n",
      "['Blekinge län', 'Karlshamn', '0 - Centrala Asarum', 'BLANK', '13']\n"
     ]
    }
   ],
   "source": [
    "import csv\n",
    "file=\"data/final.csv\"\n",
    "with open('data/final.csv', 'r') as csvfile:\n",
    "    csv_reader = csv.reader(csvfile)\n",
    "    line_count = 0\n",
    "    data=[]\n",
    "    for row in csv_reader:\n",
    "        if line_count == 0:\n",
    "            header =row \n",
    "            #print(\"header: \",row)\n",
    "        if line_count != 0:\n",
    "            if line_count<10:\n",
    "                #print(row)\n",
    "            data.append(row)\n",
    "        line_count += 1"
   ]
  },
  {
   "cell_type": "markdown",
   "metadata": {
    "deletable": false,
    "lx_assignment_number": "1",
    "lx_assignment_type": "ASSIGNMENT",
    "lx_assignment_type2print": "Assignment",
    "lx_problem_cell_type": "Test",
    "lx_problem_number": "3",
    "lx_problem_points": "3"
   },
   "source": [
    "---\n",
    "#### Local Test for Assignment 1, PROBLEM 3\n",
    "Evaluate cell below to make sure your answer is valid.                             You **should not** modify anything in the cell below when evaluating it to do a local test of                             your solution.\n",
    "You may need to include and evaluate code snippets from lecture notebooks in cells above to make the local test work correctly sometimes (see error messages for clues). This is meant to help you become efficient at recalling materials covered in lectures that relate to this problem. Such local tests will generally not be available in the exam."
   ]
  },
  {
   "cell_type": "code",
   "execution_count": 167,
   "metadata": {
    "deletable": false,
    "lx_assignment_number": "1",
    "lx_assignment_type": "ASSIGNMENT",
    "lx_assignment_type2print": "Assignment",
    "lx_problem_cell_type": "Test",
    "lx_problem_number": "3",
    "lx_problem_points": "3"
   },
   "outputs": [
    {
     "name": "stdout",
     "output_type": "stream",
     "text": [
      "Good! You have the header as a list. Hopefully it is the correct!\n",
      "Good! You have the header as a list of strings. Hopefully it is the correct!\n",
      "Good! You have the data as a list. Hopefully it is the correct!\n",
      "Good! You have the data as a list of lists. Hopefully it is the correct!\n",
      "Good! You have the data as a list of lists of strings. Hopefully it is the correct!\n"
     ]
    }
   ],
   "source": [
    "\n",
    "# Evaluate this cell locally to make sure you have the answer in the right format\n",
    "try:\n",
    "    assert(type(header) == list)\n",
    "    print(\"Good! You have the header as a list. Hopefully it is the correct!\")\n",
    "except AssertionError:\n",
    "    print(\"Try Again. You should answer with a list.\")\n",
    "try:\n",
    "    types = set([type(a) for a in header])\n",
    "    assert((len(types) == 1) and (list(types)[0] == str))\n",
    "    print(\"Good! You have the header as a list of strings. Hopefully it is the correct!\")\n",
    "except AssertionError:\n",
    "    print(\"Try Again. You should answer with a list of strings.\")\n",
    "try:\n",
    "    assert(type(data) == list)\n",
    "    print(\"Good! You have the data as a list. Hopefully it is the correct!\")\n",
    "except AssertionError:\n",
    "    print(\"Try Again. You should answer with a list.\")\n",
    "try:\n",
    "    types = set([type(a) for a in data])\n",
    "    assert((len(types) == 1) and (list(types)[0] == list))\n",
    "    print(\"Good! You have the data as a list of lists. Hopefully it is the correct!\")\n",
    "except AssertionError:\n",
    "    print(\"Try Again. You should answer with a list of lists.\")\n",
    "try:\n",
    "    types = set(sum([[type(d) for d in t] for t in data[:1]],[]))\n",
    "    assert((len(types) == 1) and (list(types)[0] == str))\n",
    "    print(\"Good! You have the data as a list of lists of strings. Hopefully it is the correct!\")\n",
    "except AssertionError:\n",
    "    print(\"Try Again. You should answer with a list of lists of strings.\")"
   ]
  },
  {
   "cell_type": "markdown",
   "metadata": {
    "deletable": false,
    "lx_assignment_number": "1",
    "lx_assignment_type": "ASSIGNMENT",
    "lx_assignment_type2print": "Assignment",
    "lx_problem_cell_type": "PROBLEM",
    "lx_problem_number": "4",
    "lx_problem_points": "8"
   },
   "source": [
    "---\n",
    "## Assignment 1, PROBLEM 4\n",
    "Maximum Points = 8"
   ]
  },
  {
   "cell_type": "markdown",
   "metadata": {
    "deletable": false,
    "lx_assignment_number": "1",
    "lx_assignment_type": "ASSIGNMENT",
    "lx_assignment_type2print": "Assignment",
    "lx_problem_cell_type": "PROBLEM",
    "lx_problem_number": "4",
    "lx_problem_points": "8"
   },
   "source": [
    "\n",
    "## Students passing exam (Sample exam problem)\n",
    "Let's say we have an exam question which consists of $10$ yes/no questions. \n",
    "From past performance of similar students, a randomly chosen student will know the correct answer to $N \\sim \\text{binom}(10,6/10)$ questions. Furthermore, we assume that the student will guess the answer with equal probability to each question they don't know the answer to, i.e. given $N$ we define $Z \\sim \\text{binom}(10-N,1/2)$ as the number of correctly guessed answers. Define $Y = N + Z$, i.e., $Y$ represents the number of total correct answers.\n",
    "\n",
    "We are interested in setting a deterministic threshold $T$, i.e., we would pass a student at threshold $T$ if $Y \\geq T$. Here $T \\in \\{0,1,2,\\ldots,10\\}$.\n",
    "\n",
    "1. [5p] For each threshold $T$, compute the probability that the student *knows* less than $5$ correct answers given that the student passed, i.e., $N < 5$. Put the answer in `problem11_probabilities` as a list.\n",
    "2. [3p] What is the smallest value of $T$ such that if $Y \\geq T$ then we are 90\\% certain that $N \\geq 5$?"
   ]
  },
  {
   "cell_type": "code",
   "execution_count": 482,
   "metadata": {},
   "outputs": [
    {
     "data": {
      "text/plain": [
       "[0.16623861760000005,\n",
       " 0.16623853222282575,\n",
       " 0.16623511712151579,\n",
       " 0.16617364051358016,\n",
       " 0.16551732549063342,\n",
       " 0.1608940308080942,\n",
       " 0.1444527989145165,\n",
       " 0.11223025722358065,\n",
       " 0.07321212315323332,\n",
       " 0.04058456420898439,\n",
       " 0.0197277069091797]"
      ]
     },
     "execution_count": 482,
     "metadata": {},
     "output_type": "execute_result"
    }
   ],
   "source": [
    "import numpy as np\n",
    "from scipy.special import binom as binomial\n",
    "p_n = 6/10\n",
    "p_N = lambda k: binomial(10,k)*((1-p_n)**(10-k))*((p_n)**k)\n",
    "\n",
    "p_zn = 1/2\n",
    "p_Z_N = lambda z,N: binomial(10-N,z)*((1-p_zn)**(10-N-z))*((p_zn)**z)\n",
    "\n",
    "def cdf_Z_N(z,N):\n",
    "    cdf=0\n",
    "    for i in range(z+1):\n",
    "        cdf+=p_Z_N(i,N)\n",
    "    return cdf\n",
    "\n",
    "def p_Z_bigger_than(z,N):\n",
    "    return 1-cdf_Z_N(z-1,N)\n",
    "\n",
    "##P(Y>=t) 分母\n",
    "l_p_Y_t=[0]*11\n",
    "for t in range(11):\n",
    "    p_Y_t=0\n",
    "    for n in range(11):\n",
    "        p_Y_t+=p_Z_bigger_than(t-n,n)*p_N(n)\n",
    "    l_p_Y_t[t]=p_Y_t\n",
    "\n",
    "\n",
    "##P(N<4|Y>=t) 分子\n",
    "l_p_N_less_than_4=[0]*11\n",
    "for t in range(11):\n",
    "    p_Y_t=0\n",
    "    for n in range(5):\n",
    "        p_Y_t+=p_Z_bigger_than(t-n,n)*p_N(n)\n",
    "    l_p_N_less_than_4[t]=p_Y_t\n",
    "\n",
    "##P(N<4|Y>=t) / P(Y>=t) 分子/分母\n",
    "list(np.array(l_p_N_less_than_4)/np.array(l_p_Y_t))"
   ]
  },
  {
   "cell_type": "code",
   "execution_count": 442,
   "metadata": {},
   "outputs": [],
   "source": [
    "# Hint the PMF of N is p_N(k) where p_N is\n",
    "from scipy.special import binom as binomial\n",
    "p_n = 6/10\n",
    "p_N = lambda k: binomial(10,k)*((1-p_n)**(10-k))*((p_n)**k)"
   ]
  },
  {
   "cell_type": "code",
   "execution_count": 443,
   "metadata": {},
   "outputs": [],
   "source": [
    "p_zn = 1/2\n",
    "p_Z_N = lambda z,N: binomial(10-N,z)*((1-p_zn)**(10-N-z))*((p_zn)**z)"
   ]
  },
  {
   "cell_type": "code",
   "execution_count": 446,
   "metadata": {},
   "outputs": [
    {
     "name": "stdout",
     "output_type": "stream",
     "text": [
      "0.015625\n",
      "0.09375\n",
      "0.234375\n",
      "0.3125\n",
      "0.234375\n",
      "0.09375\n",
      "0.015625\n",
      "0.0\n",
      "0.0\n",
      "0.0\n",
      "0.0\n"
     ]
    }
   ],
   "source": [
    "for z in range(11):\n",
    "    print(p_Z_N(z,N))"
   ]
  },
  {
   "cell_type": "code",
   "execution_count": 447,
   "metadata": {},
   "outputs": [],
   "source": [
    "def cdf_Z_N(z,N):\n",
    "    cdf=0\n",
    "    for i in range(z+1):\n",
    "        cdf+=p_Z_N(i,N)\n",
    "    return cdf\n",
    "    "
   ]
  },
  {
   "cell_type": "code",
   "execution_count": 450,
   "metadata": {},
   "outputs": [
    {
     "name": "stdout",
     "output_type": "stream",
     "text": [
      "0 0.015625\n",
      "1 0.109375\n",
      "2 0.34375\n",
      "3 0.65625\n",
      "4 0.890625\n",
      "5 0.984375\n",
      "6 1.0\n",
      "7 1.0\n",
      "8 1.0\n",
      "9 1.0\n",
      "10 1.0\n"
     ]
    }
   ],
   "source": [
    "for z in range(11):\n",
    "    print(z,cdf_Z_N(z,N))"
   ]
  },
  {
   "cell_type": "code",
   "execution_count": 451,
   "metadata": {},
   "outputs": [],
   "source": [
    "def p_Z_bigger_than(z,N):\n",
    "    return 1-cdf_Z_N(z-1,N)"
   ]
  },
  {
   "cell_type": "code",
   "execution_count": 452,
   "metadata": {
    "scrolled": true
   },
   "outputs": [
    {
     "name": "stdout",
     "output_type": "stream",
     "text": [
      "1 0.205078125\n",
      "0.984375 0.205078125\n",
      "0.890625 0.205078125\n",
      "0.65625 0.205078125\n",
      "0.34375 0.205078125\n",
      "0.109375 0.205078125\n",
      "0.015625 0.205078125\n",
      "0.0 0.205078125\n",
      "0.0 0.205078125\n",
      "0.0 0.205078125\n",
      "0.0 0.205078125\n"
     ]
    }
   ],
   "source": [
    "for z in range(11):\n",
    "    print(p_Z_bigger_than(z,4),p_N(4))"
   ]
  },
  {
   "cell_type": "code",
   "execution_count": 454,
   "metadata": {},
   "outputs": [
    {
     "data": {
      "text/plain": [
       "array([ True,  True,  True,  True,  True,  True,  True,  True,  True,\n",
       "        True,  True])"
      ]
     },
     "execution_count": 454,
     "metadata": {},
     "output_type": "execute_result"
    }
   ],
   "source": [
    "p_Y_bigger_than=np.flip(np.flip(p_Y, 0).cumsum(), 0)\n",
    "p_Y_bigger_than==l_p_Y_t"
   ]
  },
  {
   "cell_type": "code",
   "execution_count": 455,
   "metadata": {},
   "outputs": [],
   "source": [
    "l_p_Y_t=[0]*11\n",
    "for t in range(11):\n",
    "    p_Y_t=0\n",
    "    for n in range(11):\n",
    "        p_Y_t+=p_Z_bigger_than(t-n,n)*p_N(n)\n",
    "    l_p_Y_t[t]=p_Y_t"
   ]
  },
  {
   "cell_type": "code",
   "execution_count": 456,
   "metadata": {},
   "outputs": [
    {
     "data": {
      "text/plain": [
       "[1.0,\n",
       " 0.9999990463256836,\n",
       " 0.9999704360961914,\n",
       " 0.9995841979980469,\n",
       " 0.9964942932128906,\n",
       " 0.9802722930908203,\n",
       " 0.9218730926513672,\n",
       " 0.7758750915527344,\n",
       " 0.5255928039550781,\n",
       " 0.24402523040771484,\n",
       " 0.056313514709472656]"
      ]
     },
     "execution_count": 456,
     "metadata": {},
     "output_type": "execute_result"
    }
   ],
   "source": [
    "l_p_Y_t"
   ]
  },
  {
   "cell_type": "code",
   "execution_count": 457,
   "metadata": {},
   "outputs": [
    {
     "name": "stdout",
     "output_type": "stream",
     "text": [
      "Y: 0 N: 0 Z: 0 p: 9.5367431640625e-07\n",
      "Y: 0 N: 1 Z: -1 p: 0.0\n",
      "Y: 0 N: 2 Z: -2 p: 0.0\n",
      "Y: 0 N: 3 Z: -3 p: 0.0\n",
      "Y: 0 N: 4 Z: -4 p: 0.0\n",
      "====\n",
      "Y: 1 N: 0 Z: 1 p: 9.5367431640625e-06\n",
      "Y: 1 N: 1 Z: 0 p: 1.9073486328125e-05\n",
      "Y: 1 N: 2 Z: -1 p: 0.0\n",
      "Y: 1 N: 3 Z: -2 p: 0.0\n",
      "Y: 1 N: 4 Z: -3 p: 0.0\n",
      "====\n",
      "Y: 2 N: 0 Z: 2 p: 4.291534423828125e-05\n",
      "Y: 2 N: 1 Z: 1 p: 0.000171661376953125\n",
      "Y: 2 N: 2 Z: 0 p: 0.000171661376953125\n",
      "Y: 2 N: 3 Z: -1 p: 0.0\n",
      "Y: 2 N: 4 Z: -2 p: 0.0\n",
      "====\n",
      "Y: 3 N: 0 Z: 3 p: 0.00011444091796875\n",
      "Y: 3 N: 1 Z: 2 p: 0.0006866455078125\n",
      "Y: 3 N: 2 Z: 1 p: 0.001373291015625\n",
      "Y: 3 N: 3 Z: 0 p: 0.00091552734375\n",
      "Y: 3 N: 4 Z: -1 p: 0.0\n",
      "====\n",
      "Y: 4 N: 0 Z: 4 p: 0.0002002716064453125\n",
      "Y: 4 N: 1 Z: 3 p: 0.0016021728515625\n",
      "Y: 4 N: 2 Z: 2 p: 0.0048065185546875\n",
      "Y: 4 N: 3 Z: 1 p: 0.00640869140625\n",
      "Y: 4 N: 4 Z: 0 p: 0.003204345703125\n",
      "====\n",
      "Y: 5 N: 0 Z: 5 p: 0.000240325927734375\n",
      "Y: 5 N: 1 Z: 4 p: 0.00240325927734375\n",
      "Y: 5 N: 2 Z: 3 p: 0.009613037109375\n",
      "Y: 5 N: 3 Z: 2 p: 0.01922607421875\n",
      "Y: 5 N: 4 Z: 1 p: 0.01922607421875\n",
      "====\n",
      "Y: 6 N: 0 Z: 6 p: 0.0002002716064453125\n",
      "Y: 6 N: 1 Z: 5 p: 0.00240325927734375\n",
      "Y: 6 N: 2 Z: 4 p: 0.01201629638671875\n",
      "Y: 6 N: 3 Z: 3 p: 0.03204345703125\n",
      "Y: 6 N: 4 Z: 2 p: 0.048065185546875\n",
      "====\n",
      "Y: 7 N: 0 Z: 7 p: 0.00011444091796875\n",
      "Y: 7 N: 1 Z: 6 p: 0.0016021728515625\n",
      "Y: 7 N: 2 Z: 5 p: 0.009613037109375\n",
      "Y: 7 N: 3 Z: 4 p: 0.03204345703125\n",
      "Y: 7 N: 4 Z: 3 p: 0.0640869140625\n",
      "====\n",
      "Y: 8 N: 0 Z: 8 p: 4.291534423828125e-05\n",
      "Y: 8 N: 1 Z: 7 p: 0.0006866455078125\n",
      "Y: 8 N: 2 Z: 6 p: 0.0048065185546875\n",
      "Y: 8 N: 3 Z: 5 p: 0.01922607421875\n",
      "Y: 8 N: 4 Z: 4 p: 0.048065185546875\n",
      "====\n",
      "Y: 9 N: 0 Z: 9 p: 9.5367431640625e-06\n",
      "Y: 9 N: 1 Z: 8 p: 0.000171661376953125\n",
      "Y: 9 N: 2 Z: 7 p: 0.001373291015625\n",
      "Y: 9 N: 3 Z: 6 p: 0.00640869140625\n",
      "Y: 9 N: 4 Z: 5 p: 0.01922607421875\n",
      "====\n",
      "Y: 10 N: 0 Z: 10 p: 9.5367431640625e-07\n",
      "Y: 10 N: 1 Z: 9 p: 1.9073486328125e-05\n",
      "Y: 10 N: 2 Z: 8 p: 0.000171661376953125\n",
      "Y: 10 N: 3 Z: 7 p: 0.00091552734375\n",
      "Y: 10 N: 4 Z: 6 p: 0.003204345703125\n",
      "====\n"
     ]
    },
    {
     "data": {
      "text/plain": [
       "[9.5367431640625e-07,\n",
       " 2.86102294921875e-05,\n",
       " 0.00038623809814453125,\n",
       " 0.00308990478515625,\n",
       " 0.016222000122070312,\n",
       " 0.050708770751953125,\n",
       " 0.09472846984863281,\n",
       " 0.10746002197265625,\n",
       " 0.07282733917236328,\n",
       " 0.027189254760742188,\n",
       " 0.004311561584472656]"
      ]
     },
     "execution_count": 457,
     "metadata": {},
     "output_type": "execute_result"
    }
   ],
   "source": [
    "p_T=[0]*11\n",
    "for Y in range(11):\n",
    "    for N in range(5):\n",
    "        Z=Y-N\n",
    "        p_T[Y]+=p_Z(N,Z)*p_N(N)\n",
    "        print(\"Y:\",Y,\"N:\",N,\"Z:\",Z,\"p:\",p_N(N)*p_Z(N,Z))\n",
    "    print(\"====\")\n",
    "p_T"
   ]
  },
  {
   "cell_type": "code",
   "execution_count": 458,
   "metadata": {},
   "outputs": [
    {
     "data": {
      "text/plain": [
       "array([0.37695312, 0.37695217, 0.37692356, 0.37653732, 0.37344742,\n",
       "       0.35722542, 0.30651665, 0.21178818, 0.10432816, 0.03150082,\n",
       "       0.00431156])"
      ]
     },
     "execution_count": 458,
     "metadata": {},
     "output_type": "execute_result"
    }
   ],
   "source": [
    "p_T_bigger_than=np.flip(np.flip(p_T, 0).cumsum(), 0)\n",
    "p_T_bigger_than"
   ]
  },
  {
   "cell_type": "code",
   "execution_count": 459,
   "metadata": {},
   "outputs": [],
   "source": [
    "l_p_N_less_than_4=[0]*11\n",
    "for t in range(11):\n",
    "    p_Y_t=0\n",
    "    for n in range(5):\n",
    "        p_Y_t+=p_Z_bigger_than(t-n,n)*p_N(n)\n",
    "    l_p_N_less_than_4[t]=p_Y_t"
   ]
  },
  {
   "cell_type": "code",
   "execution_count": 460,
   "metadata": {},
   "outputs": [
    {
     "data": {
      "text/plain": [
       "[0.376953125,\n",
       " 0.3769521713256836,\n",
       " 0.3769235610961914,\n",
       " 0.3765373229980469,\n",
       " 0.3734474182128906,\n",
       " 0.3572254180908203,\n",
       " 0.3065166473388672,\n",
       " 0.21178817749023438,\n",
       " 0.10432815551757812,\n",
       " 0.031500816345214844,\n",
       " 0.004311561584472656]"
      ]
     },
     "execution_count": 460,
     "metadata": {},
     "output_type": "execute_result"
    }
   ],
   "source": [
    "l_p_N_less_than_4"
   ]
  },
  {
   "cell_type": "code",
   "execution_count": 461,
   "metadata": {},
   "outputs": [
    {
     "ename": "NameError",
     "evalue": "name 'array' is not defined",
     "output_type": "error",
     "traceback": [
      "\u001b[0;31m---------------------------------------------------------------------------\u001b[0m",
      "\u001b[0;31mNameError\u001b[0m                                 Traceback (most recent call last)",
      "Cell \u001b[0;32mIn[461], line 1\u001b[0m\n\u001b[0;32m----> 1\u001b[0m \u001b[43marray\u001b[49m([\u001b[38;5;241m0.37695312\u001b[39m, \u001b[38;5;241m0.37695217\u001b[39m, \u001b[38;5;241m0.37692356\u001b[39m, \u001b[38;5;241m0.37653732\u001b[39m, \u001b[38;5;241m0.37344742\u001b[39m,\n\u001b[1;32m      2\u001b[0m        \u001b[38;5;241m0.35722542\u001b[39m, \u001b[38;5;241m0.30651665\u001b[39m, \u001b[38;5;241m0.21178818\u001b[39m, \u001b[38;5;241m0.10432816\u001b[39m, \u001b[38;5;241m0.03150082\u001b[39m,\n\u001b[1;32m      3\u001b[0m        \u001b[38;5;241m0.00431156\u001b[39m])\n",
      "\u001b[0;31mNameError\u001b[0m: name 'array' is not defined"
     ]
    }
   ],
   "source": [
    "array([0.37695312, 0.37695217, 0.37692356, 0.37653732, 0.37344742,\n",
    "       0.35722542, 0.30651665, 0.21178818, 0.10432816, 0.03150082,\n",
    "       0.00431156])"
   ]
  },
  {
   "cell_type": "code",
   "execution_count": 423,
   "metadata": {},
   "outputs": [
    {
     "data": {
      "text/plain": [
       "[0.376953125,\n",
       " 0.37695253081563074,\n",
       " 0.376934704757545,\n",
       " 0.37669395309786863,\n",
       " 0.3747612211694899,\n",
       " 0.364414480148654,\n",
       " 0.33249332232629253,\n",
       " 0.2729668471072958,\n",
       " 0.1984961642026114,\n",
       " 0.12908835816929096,\n",
       " 0.07656353198191333]"
      ]
     },
     "execution_count": 423,
     "metadata": {},
     "output_type": "execute_result"
    }
   ],
   "source": [
    "#correct one\n",
    "list(np.array(l_p_N_less_than_4)/np.array(l_p_Y_t))"
   ]
  },
  {
   "cell_type": "code",
   "execution_count": null,
   "metadata": {},
   "outputs": [],
   "source": [
    "#### 之前寫錯的"
   ]
  },
  {
   "cell_type": "code",
   "execution_count": 462,
   "metadata": {
    "deletable": false,
    "lx_assignment_number": "1",
    "lx_assignment_type": "ASSIGNMENT",
    "lx_assignment_type2print": "Assignment",
    "lx_problem_cell_type": "PROBLEM",
    "lx_problem_number": "4",
    "lx_problem_points": "8"
   },
   "outputs": [],
   "source": [
    "# binomial(10,k) C10取k\n",
    "# Hint the PMF of N is p_N(k) where p_N is\n",
    "from scipy.special import binom as binomial\n",
    "p = 6/10\n",
    "p_N = lambda n: binomial(10,n)*((1-p)**(10-n))*((p)**n)"
   ]
  },
  {
   "cell_type": "code",
   "execution_count": 463,
   "metadata": {},
   "outputs": [
    {
     "data": {
      "text/plain": [
       "45.0"
      ]
     },
     "execution_count": 463,
     "metadata": {},
     "output_type": "execute_result"
    }
   ],
   "source": [
    "binomial(10,2)"
   ]
  },
  {
   "cell_type": "code",
   "execution_count": 464,
   "metadata": {},
   "outputs": [],
   "source": [
    "p2 = 1/2\n",
    "p_Z = lambda n,z: binomial(10-n,z)*((1-p2)**(10-n-z))*((p2)**z)"
   ]
  },
  {
   "cell_type": "code",
   "execution_count": 465,
   "metadata": {},
   "outputs": [
    {
     "data": {
      "text/plain": [
       "0.017578125"
      ]
     },
     "execution_count": 465,
     "metadata": {},
     "output_type": "execute_result"
    }
   ],
   "source": [
    "p_Z(1,1)"
   ]
  },
  {
   "cell_type": "code",
   "execution_count": 466,
   "metadata": {},
   "outputs": [
    {
     "data": {
      "text/plain": [
       "0.017578125"
      ]
     },
     "execution_count": 466,
     "metadata": {},
     "output_type": "execute_result"
    }
   ],
   "source": [
    "binomial(9,1)*(1/2)**9"
   ]
  },
  {
   "cell_type": "code",
   "execution_count": 467,
   "metadata": {},
   "outputs": [
    {
     "name": "stdout",
     "output_type": "stream",
     "text": [
      "0.00010485760000000006\n",
      "0.0015728640000000009\n",
      "0.010616832000000005\n",
      "0.042467328000000006\n",
      "0.11147673600000005\n"
     ]
    },
    {
     "data": {
      "text/plain": [
       "0.16623861760000005"
      ]
     },
     "execution_count": 467,
     "metadata": {},
     "output_type": "execute_result"
    }
   ],
   "source": [
    "#N=0~4 的p_N\n",
    "ss=0\n",
    "for i in range(5):\n",
    "    print(p_N(i))\n",
    "    ss+=p_N(i)\n",
    "ss"
   ]
  },
  {
   "cell_type": "code",
   "execution_count": 468,
   "metadata": {},
   "outputs": [
    {
     "data": {
      "text/plain": [
       "[1.0, 1.0, 1.0, 1.0, 1.0, 1.0, 1.0, 1.0, 1.0, 1.0, 1.0]"
      ]
     },
     "execution_count": 468,
     "metadata": {},
     "output_type": "execute_result"
    }
   ],
   "source": [
    "#check everything is 1\n",
    "p_Y=[0]*11\n",
    "for Y in range(11):\n",
    "    for n in range(11):\n",
    "        for z in range(11):\n",
    "            #sum+=p_N(N)*p_Z(N,i)\n",
    "            p_Y[Y]+=p_N(n)*p_Z(N,z)\n",
    "p_Y"
   ]
  },
  {
   "cell_type": "code",
   "execution_count": 469,
   "metadata": {
    "scrolled": true
   },
   "outputs": [
    {
     "name": "stdout",
     "output_type": "stream",
     "text": [
      "Y: 0 N: 0 Z: 0\n",
      "====\n",
      "Y: 1 N: 0 Z: 1\n",
      "Y: 1 N: 1 Z: 0\n",
      "====\n",
      "Y: 2 N: 0 Z: 2\n",
      "Y: 2 N: 1 Z: 1\n",
      "Y: 2 N: 2 Z: 0\n",
      "====\n",
      "Y: 3 N: 0 Z: 3\n",
      "Y: 3 N: 1 Z: 2\n",
      "Y: 3 N: 2 Z: 1\n",
      "Y: 3 N: 3 Z: 0\n",
      "====\n",
      "Y: 4 N: 0 Z: 4\n",
      "Y: 4 N: 1 Z: 3\n",
      "Y: 4 N: 2 Z: 2\n",
      "Y: 4 N: 3 Z: 1\n",
      "Y: 4 N: 4 Z: 0\n",
      "====\n",
      "Y: 5 N: 0 Z: 5\n",
      "Y: 5 N: 1 Z: 4\n",
      "Y: 5 N: 2 Z: 3\n",
      "Y: 5 N: 3 Z: 2\n",
      "Y: 5 N: 4 Z: 1\n",
      "Y: 5 N: 5 Z: 0\n",
      "====\n",
      "Y: 6 N: 0 Z: 6\n",
      "Y: 6 N: 1 Z: 5\n",
      "Y: 6 N: 2 Z: 4\n",
      "Y: 6 N: 3 Z: 3\n",
      "Y: 6 N: 4 Z: 2\n",
      "Y: 6 N: 5 Z: 1\n",
      "Y: 6 N: 6 Z: 0\n",
      "====\n",
      "Y: 7 N: 0 Z: 7\n",
      "Y: 7 N: 1 Z: 6\n",
      "Y: 7 N: 2 Z: 5\n",
      "Y: 7 N: 3 Z: 4\n",
      "Y: 7 N: 4 Z: 3\n",
      "Y: 7 N: 5 Z: 2\n",
      "Y: 7 N: 6 Z: 1\n",
      "Y: 7 N: 7 Z: 0\n",
      "====\n",
      "Y: 8 N: 0 Z: 8\n",
      "Y: 8 N: 1 Z: 7\n",
      "Y: 8 N: 2 Z: 6\n",
      "Y: 8 N: 3 Z: 5\n",
      "Y: 8 N: 4 Z: 4\n",
      "Y: 8 N: 5 Z: 3\n",
      "Y: 8 N: 6 Z: 2\n",
      "Y: 8 N: 7 Z: 1\n",
      "Y: 8 N: 8 Z: 0\n",
      "====\n",
      "Y: 9 N: 0 Z: 9\n",
      "Y: 9 N: 1 Z: 8\n",
      "Y: 9 N: 2 Z: 7\n",
      "Y: 9 N: 3 Z: 6\n",
      "Y: 9 N: 4 Z: 5\n",
      "Y: 9 N: 5 Z: 4\n",
      "Y: 9 N: 6 Z: 3\n",
      "Y: 9 N: 7 Z: 2\n",
      "Y: 9 N: 8 Z: 1\n",
      "Y: 9 N: 9 Z: 0\n",
      "====\n",
      "Y: 10 N: 0 Z: 10\n",
      "Y: 10 N: 1 Z: 9\n",
      "Y: 10 N: 2 Z: 8\n",
      "Y: 10 N: 3 Z: 7\n",
      "Y: 10 N: 4 Z: 6\n",
      "Y: 10 N: 5 Z: 5\n",
      "Y: 10 N: 6 Z: 4\n",
      "Y: 10 N: 7 Z: 3\n",
      "Y: 10 N: 8 Z: 2\n",
      "Y: 10 N: 9 Z: 1\n",
      "Y: 10 N: 10 Z: 0\n",
      "====\n"
     ]
    },
    {
     "data": {
      "text/plain": [
       "[1.0240000000000006e-07,\n",
       " 4.096000000000002e-06,\n",
       " 7.372800000000004e-05,\n",
       " 0.0007864320000000003,\n",
       " 0.005505024000000002,\n",
       " 0.026424115200000004,\n",
       " 0.08808038400000001,\n",
       " 0.201326592,\n",
       " 0.301989888,\n",
       " 0.26843545599999996,\n",
       " 0.10737418239999998]"
      ]
     },
     "execution_count": 469,
     "metadata": {},
     "output_type": "execute_result"
    }
   ],
   "source": [
    "p_Y=[0]*11\n",
    "for Y in range(11):\n",
    "    for N in range(Y+1):\n",
    "        Z=Y-N\n",
    "        p_Y[Y]+=p_N(N)*p_Z(N,Z)\n",
    "        print(\"Y:\",Y,\"N:\",N,\"Z:\",Z)\n",
    "    print(\"====\")\n",
    "p_Y"
   ]
  },
  {
   "cell_type": "code",
   "execution_count": 470,
   "metadata": {},
   "outputs": [
    {
     "data": {
      "text/plain": [
       "0.9999999999999999"
      ]
     },
     "execution_count": 470,
     "metadata": {},
     "output_type": "execute_result"
    }
   ],
   "source": [
    "sum(p_Y)"
   ]
  },
  {
   "cell_type": "code",
   "execution_count": 471,
   "metadata": {},
   "outputs": [
    {
     "data": {
      "text/plain": [
       "4.096000000000002e-06"
      ]
     },
     "execution_count": 471,
     "metadata": {},
     "output_type": "execute_result"
    }
   ],
   "source": [
    "N=0\n",
    "Z=1\n",
    "a=p_N(N)*p_Z(N,Z)\n",
    "\n",
    "N=1\n",
    "Z=0\n",
    "a+=p_N(N)*p_Z(N,Z)\n",
    "a"
   ]
  },
  {
   "cell_type": "code",
   "execution_count": 472,
   "metadata": {
    "scrolled": true
   },
   "outputs": [
    {
     "name": "stdout",
     "output_type": "stream",
     "text": [
      "Y: 0 N: 0 Z: 0 p: 1.0240000000000006e-07\n",
      "Y: 0 N: 1 Z: -1 p: 0.0\n",
      "Y: 0 N: 2 Z: -2 p: 0.0\n",
      "Y: 0 N: 3 Z: -3 p: 0.0\n",
      "Y: 0 N: 4 Z: -4 p: 0.0\n",
      "====\n",
      "Y: 1 N: 0 Z: 1 p: 1.0240000000000005e-06\n",
      "Y: 1 N: 1 Z: 0 p: 3.0720000000000017e-06\n",
      "Y: 1 N: 2 Z: -1 p: 0.0\n",
      "Y: 1 N: 3 Z: -2 p: 0.0\n",
      "Y: 1 N: 4 Z: -3 p: 0.0\n",
      "====\n",
      "Y: 2 N: 0 Z: 2 p: 4.608000000000002e-06\n",
      "Y: 2 N: 1 Z: 1 p: 2.7648000000000014e-05\n",
      "Y: 2 N: 2 Z: 0 p: 4.147200000000002e-05\n",
      "Y: 2 N: 3 Z: -1 p: 0.0\n",
      "Y: 2 N: 4 Z: -2 p: 0.0\n",
      "====\n",
      "Y: 3 N: 0 Z: 3 p: 1.2288000000000007e-05\n",
      "Y: 3 N: 1 Z: 2 p: 0.00011059200000000006\n",
      "Y: 3 N: 2 Z: 1 p: 0.00033177600000000015\n",
      "Y: 3 N: 3 Z: 0 p: 0.00033177600000000004\n",
      "Y: 3 N: 4 Z: -1 p: 0.0\n",
      "====\n",
      "Y: 4 N: 0 Z: 4 p: 2.1504000000000013e-05\n",
      "Y: 4 N: 1 Z: 3 p: 0.00025804800000000014\n",
      "Y: 4 N: 2 Z: 2 p: 0.0011612160000000005\n",
      "Y: 4 N: 3 Z: 1 p: 0.002322432\n",
      "Y: 4 N: 4 Z: 0 p: 0.0017418240000000008\n",
      "====\n",
      "Y: 5 N: 0 Z: 5 p: 2.5804800000000014e-05\n",
      "Y: 5 N: 1 Z: 4 p: 0.0003870720000000002\n",
      "Y: 5 N: 2 Z: 3 p: 0.002322432000000001\n",
      "Y: 5 N: 3 Z: 2 p: 0.006967296000000001\n",
      "Y: 5 N: 4 Z: 1 p: 0.010450944000000004\n",
      "====\n",
      "Y: 6 N: 0 Z: 6 p: 2.1504000000000013e-05\n",
      "Y: 6 N: 1 Z: 5 p: 0.0003870720000000002\n",
      "Y: 6 N: 2 Z: 4 p: 0.0029030400000000013\n",
      "Y: 6 N: 3 Z: 3 p: 0.011612160000000002\n",
      "Y: 6 N: 4 Z: 2 p: 0.026127360000000013\n",
      "====\n",
      "Y: 7 N: 0 Z: 7 p: 1.2288000000000007e-05\n",
      "Y: 7 N: 1 Z: 6 p: 0.00025804800000000014\n",
      "Y: 7 N: 2 Z: 5 p: 0.002322432000000001\n",
      "Y: 7 N: 3 Z: 4 p: 0.011612160000000002\n",
      "Y: 7 N: 4 Z: 3 p: 0.03483648000000002\n",
      "====\n",
      "Y: 8 N: 0 Z: 8 p: 4.608000000000002e-06\n",
      "Y: 8 N: 1 Z: 7 p: 0.00011059200000000006\n",
      "Y: 8 N: 2 Z: 6 p: 0.0011612160000000005\n",
      "Y: 8 N: 3 Z: 5 p: 0.006967296000000001\n",
      "Y: 8 N: 4 Z: 4 p: 0.026127360000000013\n",
      "====\n",
      "Y: 9 N: 0 Z: 9 p: 1.0240000000000005e-06\n",
      "Y: 9 N: 1 Z: 8 p: 2.7648000000000014e-05\n",
      "Y: 9 N: 2 Z: 7 p: 0.00033177600000000015\n",
      "Y: 9 N: 3 Z: 6 p: 0.002322432\n",
      "Y: 9 N: 4 Z: 5 p: 0.010450944000000004\n",
      "====\n",
      "Y: 10 N: 0 Z: 10 p: 1.0240000000000006e-07\n",
      "Y: 10 N: 1 Z: 9 p: 3.0720000000000017e-06\n",
      "Y: 10 N: 2 Z: 8 p: 4.147200000000002e-05\n",
      "Y: 10 N: 3 Z: 7 p: 0.00033177600000000004\n",
      "Y: 10 N: 4 Z: 6 p: 0.0017418240000000008\n",
      "====\n"
     ]
    },
    {
     "data": {
      "text/plain": [
       "[1.0240000000000006e-07,\n",
       " 4.096000000000002e-06,\n",
       " 7.372800000000004e-05,\n",
       " 0.0007864320000000003,\n",
       " 0.005505024000000002,\n",
       " 0.020153548800000004,\n",
       " 0.041051136000000016,\n",
       " 0.04904140800000002,\n",
       " 0.034371072000000016,\n",
       " 0.013133824000000004,\n",
       " 0.002118246400000001]"
      ]
     },
     "execution_count": 472,
     "metadata": {},
     "output_type": "execute_result"
    }
   ],
   "source": [
    "p_T=[0]*11\n",
    "for Y in range(11):\n",
    "    for N in range(5):\n",
    "        Z=Y-N\n",
    "        p_T[Y]+=p_N(N)*p_Z(N,Z)\n",
    "        print(\"Y:\",Y,\"N:\",N,\"Z:\",Z,\"p:\",p_N(N)*p_Z(N,Z))\n",
    "    print(\"====\")\n",
    "p_T"
   ]
  },
  {
   "cell_type": "code",
   "execution_count": null,
   "metadata": {},
   "outputs": [],
   "source": []
  },
  {
   "cell_type": "code",
   "execution_count": 473,
   "metadata": {},
   "outputs": [],
   "source": [
    "import numpy as np"
   ]
  },
  {
   "cell_type": "code",
   "execution_count": 474,
   "metadata": {},
   "outputs": [],
   "source": [
    "p_T_bigger_than=np.flip(np.flip(p_T, 0).cumsum(), 0)"
   ]
  },
  {
   "cell_type": "code",
   "execution_count": 475,
   "metadata": {},
   "outputs": [
    {
     "data": {
      "text/plain": [
       "array([0.16623862, 0.16623852, 0.16623442, 0.16616069, 0.16537426,\n",
       "       0.15986924, 0.13971569, 0.09866455, 0.04962314, 0.01525207,\n",
       "       0.00211825])"
      ]
     },
     "execution_count": 475,
     "metadata": {},
     "output_type": "execute_result"
    }
   ],
   "source": [
    "p_T_bigger_than"
   ]
  },
  {
   "cell_type": "code",
   "execution_count": 476,
   "metadata": {},
   "outputs": [],
   "source": [
    "p_Y_bigger_than=np.flip(np.flip(p_Y, 0).cumsum(), 0)"
   ]
  },
  {
   "cell_type": "code",
   "execution_count": 477,
   "metadata": {},
   "outputs": [
    {
     "data": {
      "text/plain": [
       "array([1.        , 0.9999999 , 0.9999958 , 0.99992207, 0.99913564,\n",
       "       0.99363062, 0.9672065 , 0.87912612, 0.67779953, 0.37580964,\n",
       "       0.10737418])"
      ]
     },
     "execution_count": 477,
     "metadata": {},
     "output_type": "execute_result"
    }
   ],
   "source": [
    "p_Y_bigger_than"
   ]
  },
  {
   "cell_type": "code",
   "execution_count": 478,
   "metadata": {},
   "outputs": [
    {
     "data": {
      "text/plain": [
       "[0.1662386176000001,\n",
       " 0.1662385322228258,\n",
       " 0.1662351171215158,\n",
       " 0.16617364051358025,\n",
       " 0.16551732549063347,\n",
       " 0.16089403080809422,\n",
       " 0.14445279891451657,\n",
       " 0.11223025722358071,\n",
       " 0.07321212315323333,\n",
       " 0.040584564208984396,\n",
       " 0.0197277069091797]"
      ]
     },
     "execution_count": 478,
     "metadata": {},
     "output_type": "execute_result"
    }
   ],
   "source": [
    "list(np.array(p_T_bigger_than)/np.array(p_Y_bigger_than))"
   ]
  },
  {
   "cell_type": "code",
   "execution_count": 479,
   "metadata": {
    "deletable": false,
    "lx_assignment_number": "1",
    "lx_assignment_type": "ASSIGNMENT",
    "lx_assignment_type2print": "Assignment",
    "lx_problem_cell_type": "PROBLEM",
    "lx_problem_number": "4",
    "lx_problem_points": "8"
   },
   "outputs": [],
   "source": [
    "\n",
    "# Part 1: \n",
    "# replace XXX to represent P(N < 5) for T = [0,1,2,...,10], i.e. your answer should be a list\n",
    "# of length 11.\n",
    "problem11_probabilities = list(np.array(p_T_bigger_than)/np.array(p_Y_bigger_than))"
   ]
  },
  {
   "cell_type": "code",
   "execution_count": 480,
   "metadata": {},
   "outputs": [],
   "source": [
    "problem11_probabilities=[0.376953125,\n",
    " 0.37695253081563074,\n",
    " 0.376934704757545,\n",
    " 0.37669395309786863,\n",
    " 0.3747612211694899,\n",
    " 0.364414480148654,\n",
    " 0.33249332232629253,\n",
    " 0.2729668471072958,\n",
    " 0.1984961642026114,\n",
    " 0.12908835816929096,\n",
    " 0.07656353198191333]"
   ]
  },
  {
   "cell_type": "code",
   "execution_count": 155,
   "metadata": {
    "deletable": false,
    "lx_assignment_number": "1",
    "lx_assignment_type": "ASSIGNMENT",
    "lx_assignment_type2print": "Assignment",
    "lx_problem_cell_type": "PROBLEM",
    "lx_problem_number": "4",
    "lx_problem_points": "8"
   },
   "outputs": [],
   "source": [
    "\n",
    "# Part 2: Give an integer between 0 and 10 which is the answer to 2.\n",
    "problem12_T = 10"
   ]
  },
  {
   "cell_type": "markdown",
   "metadata": {
    "deletable": false,
    "lx_assignment_number": "1",
    "lx_assignment_type": "ASSIGNMENT",
    "lx_assignment_type2print": "Assignment",
    "lx_problem_cell_type": "PROBLEM",
    "lx_problem_number": "5",
    "lx_problem_points": "8"
   },
   "source": [
    "---\n",
    "## Assignment 1, PROBLEM 5\n",
    "Maximum Points = 8"
   ]
  },
  {
   "cell_type": "markdown",
   "metadata": {
    "deletable": false,
    "lx_assignment_number": "1",
    "lx_assignment_type": "ASSIGNMENT",
    "lx_assignment_type2print": "Assignment",
    "lx_problem_cell_type": "PROBLEM",
    "lx_problem_number": "5",
    "lx_problem_points": "8"
   },
   "source": [
    "\n",
    "## Concentration of measure (Sample exam problem)\n",
    "\n",
    "As you recall, we said that concentration of measure was simply the phenomenon where we expect that the probability of a large deviation of some quantity becoming smaller as we observe more samples: [0.4 points per correct answer]\n",
    "\n",
    "1. Which of the following will exponentially concentrate, i.e. for some $C_1,C_2,C_3,C_4 $ \n",
    "$$\n",
    "    P(Z - \\mathbb{E}[Z] \\geq \\epsilon) \\leq C_1 e^{-C_2 n \\epsilon^2} \\wedge C_3 e^{-C_4 n (\\epsilon+1)} \\enspace .\n",
    "$$\n",
    "\n",
    "\n",
    "    1. (X)The empirical variance of i.i.d. random variables with finite mean? \n",
    "    2. (O)The empirical variance of i.i.d. sub-Gaussian random variables?\n",
    "    3. The empirical variance of i.i.d. sub-Exponential random variables?\n",
    "    4. (O?)The empirical mean of i.i.d. sub-Gaussian random variables?\n",
    "    5. (O)The empirical mean of i.i.d. sub-Exponential random variables?\n",
    "    6. (?)The empirical mean of i.i.d. random variables with finite variance?\n",
    "    7. The empirical third moment of i.i.d. random variables with finite sixth moment?\n",
    "    8. The empirical fourth moment of i.i.d. sub-Gaussian random variables?\n",
    "    9. (O)The empirical mean of i.i.d. deterministic random variables?\n",
    "    10. (O)The empirical tenth moment of i.i.d. Bernoulli random variables?\n",
    "\n",
    "2. Which of the above will concentrate in the weaker sense, that for some $C_1$\n",
    "$$\n",
    "    P(Z - \\mathbb{E}[Z] \\geq \\epsilon) \\leq \\frac{C_1}{n \\epsilon^2}?\n",
    "$$"
   ]
  },
  {
   "cell_type": "code",
   "execution_count": 156,
   "metadata": {},
   "outputs": [
    {
     "data": {
      "image/png": "[encoded data removed]",
      "text/plain": [
       "<Figure size 640x480 with 1 Axes>"
      ]
     },
     "metadata": {},
     "output_type": "display_data"
    }
   ],
   "source": [
    "import numpy as np\n",
    "import matplotlib.pyplot as plt\n",
    "\n",
    "a = 1\n",
    "b = 1\n",
    "x = np.linspace(0, 10, 256, endpoint = True)\n",
    "y = (a * np.exp(-b*x)) \n",
    "\n",
    "a = 1\n",
    "b = 2\n",
    "x2 = np.linspace(0, 10, 256, endpoint = True)\n",
    "y2 = (a * np.exp(-b*x)) \n",
    "\n",
    "a = 1\n",
    "b = 3\n",
    "x3 = np.linspace(0, 10, 256, endpoint = True)\n",
    "y3 = (a * np.exp(-b*x)) \n",
    "\n",
    "plt.plot(x, y, '-r',label=\"1\")\n",
    "plt.plot(x2, y2,label=\"2\")\n",
    "plt.plot(x3, y3,label=\"3\")\n",
    "\n",
    "axes = plt.gca()\n",
    "axes.set_xlim([x.min(), x.max()])\n",
    "axes.set_ylim([y.min(), y.max()])\n",
    "\n",
    "plt.xlabel('x')\n",
    "plt.ylabel('y')\n",
    "plt.title('Exponential Curve')\n",
    "plt.legend(loc='upper left')\n",
    "\n",
    "plt.show()"
   ]
  },
  {
   "cell_type": "code",
   "execution_count": 157,
   "metadata": {
    "deletable": false,
    "lx_assignment_number": "1",
    "lx_assignment_type": "ASSIGNMENT",
    "lx_assignment_type2print": "Assignment",
    "lx_problem_cell_type": "PROBLEM",
    "lx_problem_number": "5",
    "lx_problem_points": "8"
   },
   "outputs": [],
   "source": [
    "\n",
    "# Answers to part 1, which of the alternatives exponentially concentrate, answer as a list\n",
    "# i.e. [1,4,5] that is example 1, 4, and 5 concentrate\n",
    "problem3_answer_1 = [2,4,5,9,10]"
   ]
  },
  {
   "cell_type": "code",
   "execution_count": 158,
   "metadata": {
    "deletable": false,
    "lx_assignment_number": "1",
    "lx_assignment_type": "ASSIGNMENT",
    "lx_assignment_type2print": "Assignment",
    "lx_problem_cell_type": "PROBLEM",
    "lx_problem_number": "5",
    "lx_problem_points": "8"
   },
   "outputs": [],
   "source": [
    "\n",
    "# Answers to part 2, which of the alternatives concentrate in the weaker sense, answer as a list\n",
    "# i.e. [1,4,5] that is example 1, 4, and 5 concentrate\n",
    "problem3_answer_2 = [2,3,4,5,6,7,8,9,10]"
   ]
  },
  {
   "cell_type": "code",
   "execution_count": null,
   "metadata": {},
   "outputs": [],
   "source": []
  }
 ],
 "metadata": {
  "kernelspec": {
   "display_name": "Python 3 (ipykernel)",
   "language": "python",
   "name": "python3"
  },
  "language_info": {
   "codemirror_mode": {
    "name": "ipython",
    "version": 3
   },
   "file_extension": ".py",
   "mimetype": "text/x-python",
   "name": "python",
   "nbconvert_exporter": "python",
   "pygments_lexer": "ipython3",
   "version": "3.11.5"
  },
  "lx_assignment_number": 1,
  "lx_course_instance": "2023",
  "lx_course_name": "Introduction to Data Science",
  "lx_course_number": "1MS041"
 },
 "nbformat": 4,
 "nbformat_minor": 4
}
