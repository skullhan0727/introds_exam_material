{
 "cells": [
  {
   "cell_type": "code",
   "execution_count": 1,
   "id": "a5d5818f-b59e-4388-a600-915523d8d732",
   "metadata": {},
   "outputs": [],
   "source": [
    "import numpy as np"
   ]
  },
  {
   "cell_type": "code",
   "execution_count": 2,
   "id": "1509335f-27e5-422d-b895-e3773ba6fe10",
   "metadata": {},
   "outputs": [],
   "source": [
    "A = np.array([[6, 1, 1],\n",
    "              [4, -2, 5],\n",
    "              [2, 8, 7]])"
   ]
  },
  {
   "cell_type": "code",
   "execution_count": 3,
   "id": "5ad61808-a22d-4bd9-a26e-c755b0b546b2",
   "metadata": {},
   "outputs": [
    {
     "name": "stdout",
     "output_type": "stream",
     "text": [
      "[[ 6  1  1]\n",
      " [ 4 -2  5]\n",
      " [ 2  8  7]]\n"
     ]
    }
   ],
   "source": [
    "print(A)"
   ]
  },
  {
   "cell_type": "code",
   "execution_count": 8,
   "id": "cb715003-dcab-481c-a6f6-d2e4ae6ab1ef",
   "metadata": {},
   "outputs": [],
   "source": [
    "a = np.array([[0.4, -0.5, 0.3],\n",
    "              [0.3, 0.3, -0.7],\n",
    "              [1, 1, 1]])"
   ]
  },
  {
   "cell_type": "code",
   "execution_count": 9,
   "id": "f3d90aea-c39a-45ff-930a-d69ba80fbb66",
   "metadata": {},
   "outputs": [
    {
     "name": "stdout",
     "output_type": "stream",
     "text": [
      "[[ 0.4 -0.5  0.3]\n",
      " [ 0.3  0.3 -0.7]\n",
      " [ 1.   1.   1. ]]\n"
     ]
    }
   ],
   "source": [
    "print(a)"
   ]
  },
  {
   "cell_type": "code",
   "execution_count": 11,
   "id": "bac208b3-1982-4f5c-ac2d-373326bcb823",
   "metadata": {},
   "outputs": [],
   "source": [
    "b = np.array([0,0,1])\n",
    "x = np.linalg.solve(a, b)"
   ]
  },
  {
   "cell_type": "code",
   "execution_count": 23,
   "id": "455ecc14-cecc-40f0-9e17-d0190872c180",
   "metadata": {},
   "outputs": [
    {
     "data": {
      "text/plain": [
       "numpy.ndarray"
      ]
     },
     "execution_count": 23,
     "metadata": {},
     "output_type": "execute_result"
    }
   ],
   "source": [
    "type(x)"
   ]
  },
  {
   "cell_type": "code",
   "execution_count": 12,
   "id": "07c1d9c4-94d7-4e47-8d29-f6f4ef09d57a",
   "metadata": {},
   "outputs": [
    {
     "name": "stdout",
     "output_type": "stream",
     "text": [
      "[0.28888889 0.41111111 0.3       ]\n"
     ]
    }
   ],
   "source": [
    "print(x)"
   ]
  },
  {
   "cell_type": "code",
   "execution_count": 15,
   "id": "bf3aeaf6-6226-4e2b-971d-63c1a1958c95",
   "metadata": {},
   "outputs": [],
   "source": [
    "p1=x[0]\n",
    "p2=x[1]\n",
    "p3=x[2]"
   ]
  },
  {
   "cell_type": "code",
   "execution_count": 16,
   "id": "9038580b-352a-48a7-8066-7c64ec373f8e",
   "metadata": {},
   "outputs": [
    {
     "data": {
      "text/plain": [
       "12.333333333333332"
      ]
     },
     "execution_count": 16,
     "metadata": {},
     "output_type": "execute_result"
    }
   ],
   "source": [
    "12*p1+15*p2+9*p3"
   ]
  },
  {
   "cell_type": "code",
   "execution_count": 17,
   "id": "2f52dda9-529c-4f8c-93ca-f51b91dbfc68",
   "metadata": {},
   "outputs": [
    {
     "data": {
      "text/plain": [
       "12.0"
      ]
     },
     "execution_count": 17,
     "metadata": {},
     "output_type": "execute_result"
    }
   ],
   "source": [
    "0*p1+27*p2+3*p3"
   ]
  },
  {
   "cell_type": "code",
   "execution_count": 21,
   "id": "279c0ac7-f74d-45d4-8a06-3b664ac74f7b",
   "metadata": {},
   "outputs": [
    {
     "data": {
      "text/plain": [
       "0.4111111111111111"
      ]
     },
     "execution_count": 21,
     "metadata": {},
     "output_type": "execute_result"
    }
   ],
   "source": [
    "0.3*37/27"
   ]
  },
  {
   "cell_type": "code",
   "execution_count": 22,
   "id": "5fa120e1-07cd-4ae6-95f3-8de0f4723e07",
   "metadata": {},
   "outputs": [
    {
     "data": {
      "text/plain": [
       "0.4111111111111111"
      ]
     },
     "execution_count": 22,
     "metadata": {},
     "output_type": "execute_result"
    }
   ],
   "source": [
    "37/90"
   ]
  },
  {
   "cell_type": "code",
   "execution_count": null,
   "id": "ceafb691-42aa-479b-ab69-b3ada7df1409",
   "metadata": {},
   "outputs": [],
   "source": []
  },
  {
   "cell_type": "code",
   "execution_count": null,
   "id": "4846ad44-2a5f-4f61-a946-799924e2750e",
   "metadata": {},
   "outputs": [],
   "source": []
  },
  {
   "cell_type": "code",
   "execution_count": null,
   "id": "3f55402d-84a9-4074-9a2f-63cc943ebff1",
   "metadata": {},
   "outputs": [],
   "source": []
  }
 ],
 "metadata": {
  "kernelspec": {
   "display_name": "Python 3 (ipykernel)",
   "language": "python",
   "name": "python3"
  },
  "language_info": {
   "codemirror_mode": {
    "name": "ipython",
    "version": 3
   },
   "file_extension": ".py",
   "mimetype": "text/x-python",
   "name": "python",
   "nbconvert_exporter": "python",
   "pygments_lexer": "ipython3",
   "version": "3.11.5"
  }
 },
 "nbformat": 4,
 "nbformat_minor": 5
}
